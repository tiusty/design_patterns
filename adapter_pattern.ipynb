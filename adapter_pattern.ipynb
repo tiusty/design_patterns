{
 "cells": [
  {
   "cell_type": "markdown",
   "source": [
    "# Adapter Patter\n",
    " \"The Adapter Pattern converts the interface of a class into another interface the clients expect. Adapter lets classes work together that couldn’t otherwise because of incompatible interfaces.\""
   ],
   "metadata": {
    "collapsed": false
   }
  },
  {
   "cell_type": "code",
   "execution_count": 5,
   "outputs": [],
   "source": [
    "from abc import ABC, abstractmethod\n",
    "\n",
    "class Duck(ABC):\n",
    "\n",
    "    @abstractmethod\n",
    "    def quack(self):\n",
    "        pass\n",
    "\n",
    "    @abstractmethod\n",
    "    def fly(self):\n",
    "        pass\n",
    "\n",
    "class Turkey(ABC):\n",
    "\n",
    "    @abstractmethod\n",
    "    def gobble(self):\n",
    "        pass\n",
    "\n",
    "    @abstractmethod\n",
    "    def fly(self):\n",
    "        pass\n",
    "\n",
    "class WildTurkey(Turkey):\n",
    "\n",
    "    def gobble(self):\n",
    "        print(\"Gobble\")\n",
    "\n",
    "    def fly(self):\n",
    "        print(\"Turkey flies\")\n",
    "\n",
    "class MallardDuck(Duck):\n",
    "\n",
    "    def quack(self):\n",
    "        print(\"Quack\")\n",
    "\n",
    "    def fly(self):\n",
    "        print(\"The duck flies!\")\n",
    "\n",
    "\n",
    "class TurkeyAdapter(Duck):\n",
    "    \"\"\"\n",
    "    This adapter a turkey into a duck\n",
    "    \"\"\"\n",
    "\n",
    "    def __init__(self, turkey: Turkey):\n",
    "        # Store the turkey to call when the duck interface is called\n",
    "        self._turkey = turkey\n",
    "\n",
    "    def quack(self):\n",
    "        # When the duck quacks, instead of quacking, pass the\n",
    "        # call to the appropriate turkey method\n",
    "        self._turkey.gobble()\n",
    "\n",
    "    def fly(self):\n",
    "        # Since turkeys do shorter splurts of flying, to map the turkey fly to a duck\n",
    "        # fly, call fly 5 times on the turkey\n",
    "        for _ in range(0,5):\n",
    "            self._turkey.fly()\n",
    "\n",
    "\n",
    "class TurkeyClassAdapater(Duck, Turkey):\n",
    "\n",
    "    def quack(self):\n",
    "        self.gobble()\n",
    "\n",
    "    def gobble(self):\n",
    "        print(\"Gobble\")\n",
    "\n",
    "    def fly(self):\n",
    "        print(\"Flying\")\n",
    "\n"
   ],
   "metadata": {
    "collapsed": false,
    "ExecuteTime": {
     "end_time": "2023-07-03T16:56:12.383661Z",
     "start_time": "2023-07-03T16:56:12.379201Z"
    }
   }
  },
  {
   "cell_type": "code",
   "execution_count": 8,
   "outputs": [
    {
     "name": "stdout",
     "output_type": "stream",
     "text": [
      "Wild Turkey Adapater\n",
      "Gobble\n",
      "Turkey flies\n",
      "Turkey flies\n",
      "Turkey flies\n",
      "Turkey flies\n",
      "Turkey flies\n",
      "\n",
      "Turkey Class Adapater\n",
      "Gobble\n",
      "Gobble\n",
      "Flying\n"
     ]
    }
   ],
   "source": [
    "# Simple example of using the turkey adapater\n",
    "print(\"Wild Turkey Adapater\")\n",
    "wild_turkey = WildTurkey()\n",
    "turkey_adapter = TurkeyAdapter(wild_turkey)\n",
    "turkey_adapter.quack()\n",
    "turkey_adapter.fly()\n",
    "\n",
    "print(\"\")\n",
    "print(\"Turkey Class Adapter\")\n",
    "class_adapter = TurkeyClassAdapater()\n",
    "class_adapter.gobble()\n",
    "class_adapter.quack()\n",
    "class_adapter.fly()"
   ],
   "metadata": {
    "collapsed": false,
    "ExecuteTime": {
     "end_time": "2023-07-03T16:56:32.439115Z",
     "start_time": "2023-07-03T16:56:32.434463Z"
    }
   }
  }
 ],
 "metadata": {
  "kernelspec": {
   "display_name": "Python 3",
   "language": "python",
   "name": "python3"
  },
  "language_info": {
   "codemirror_mode": {
    "name": "ipython",
    "version": 2
   },
   "file_extension": ".py",
   "mimetype": "text/x-python",
   "name": "python",
   "nbconvert_exporter": "python",
   "pygments_lexer": "ipython2",
   "version": "2.7.6"
  }
 },
 "nbformat": 4,
 "nbformat_minor": 0
}
