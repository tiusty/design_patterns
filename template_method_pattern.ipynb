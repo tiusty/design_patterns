{
 "cells": [
  {
   "cell_type": "code",
   "execution_count": 1,
   "metadata": {
    "collapsed": true,
    "ExecuteTime": {
     "end_time": "2023-09-07T15:57:01.171517Z",
     "start_time": "2023-09-07T15:56:57.925851Z"
    }
   },
   "outputs": [
    {
     "data": {
      "text/plain": "'The Template Method Pattern defines the skeleton of an algorithm in a method, deferring some steps to subclasses. Template Method lets subclasses redefine certain steps of an algorithm without changing the algorithms structure'"
     },
     "execution_count": 1,
     "metadata": {},
     "output_type": "execute_result"
    }
   ],
   "source": [
    "# Template Method Pattern\n",
    "\"The Template Method Pattern defines the skeleton of an algorithm in a method, deferring some steps to subclasses. Template Method lets subclasses redefine certain steps of an algorithm without changing the algorithms structure\""
   ]
  },
  {
   "cell_type": "code",
   "execution_count": 2,
   "outputs": [],
   "source": [
    "from abc import ABC, abstractmethod\n",
    "\n",
    "class CaffeineBeverage(ABC):\n",
    "    def prepare_recipe(self):\n",
    "        self.boil_water()\n",
    "        self.brew()\n",
    "        self.pour_in_cup()\n",
    "        self.add_condiments()\n",
    "\n",
    "    @abstractmethod\n",
    "    def brew(self):\n",
    "        pass\n",
    "\n",
    "    @abstractmethod\n",
    "    def add_condiments(self):\n",
    "        pass\n",
    "\n",
    "    def boil_water(self):\n",
    "        print(\"Boiling water\")\n",
    "\n",
    "    def pour_in_cup(self):\n",
    "        print(\"Pouring into cup\")\n",
    "\n",
    "class Tea(CaffeineBeverage):\n",
    "    def brew(self):\n",
    "        print(\"Steeping the tea\")\n",
    "\n",
    "    def add_condiments(self):\n",
    "        print(\"Adding Lemon\")\n",
    "\n",
    "\n",
    "class Coffee(CaffeineBeverage):\n",
    "    def brew(self):\n",
    "        print(\"Dripping Coffee through filter\")\n",
    "\n",
    "    def add_condiments(self):\n",
    "        print(\"Adding Sugar and Milk\")"
   ],
   "metadata": {
    "collapsed": false,
    "ExecuteTime": {
     "end_time": "2023-09-07T15:57:01.172940Z",
     "start_time": "2023-09-07T15:56:57.956794Z"
    }
   }
  },
  {
   "cell_type": "code",
   "execution_count": 3,
   "outputs": [
    {
     "name": "stdout",
     "output_type": "stream",
     "text": [
      "Boiling water\n",
      "Dripping Coffee through filter\n",
      "Pouring into cup\n",
      "Adding Sugar and Milk\n",
      "\n",
      "Boiling water\n",
      "Steeping the tea\n",
      "Pouring into cup\n",
      "Adding Lemon\n"
     ]
    }
   ],
   "source": [
    "coffee = Coffee()\n",
    "coffee.prepare_recipe()\n",
    "print(\"\")\n",
    "tea = Tea()\n",
    "tea.prepare_recipe()"
   ],
   "metadata": {
    "collapsed": false,
    "ExecuteTime": {
     "end_time": "2023-09-07T15:57:01.175065Z",
     "start_time": "2023-09-07T15:56:57.968759Z"
    }
   }
  },
  {
   "cell_type": "code",
   "execution_count": 6,
   "outputs": [
    {
     "name": "stdout",
     "output_type": "stream",
     "text": [
      "Boiling water\n",
      "Brew Coffee\n",
      "Pour into cup\n",
      "Adding Sugar and Milk\n"
     ]
    }
   ],
   "source": [
    "# Hooks\n",
    "class CaffineBeverageWithHook:\n",
    "    def prepare_recipe(self):\n",
    "        self.boil_water()\n",
    "        self.brew()\n",
    "        self.pour_in_cup()\n",
    "        if self.customer_wants_condiments():\n",
    "            self.add_condiments()\n",
    "\n",
    "    @abstractmethod\n",
    "    def brew(self):\n",
    "        pass\n",
    "\n",
    "    @abstractmethod\n",
    "    def add_condiments(self):\n",
    "        pass\n",
    "\n",
    "    def boil_water(self):\n",
    "        print(\"Boiling water\")\n",
    "\n",
    "    def pour_in_cup(self):\n",
    "        print(\"Pour into cup\")\n",
    "\n",
    "    def customer_wants_condiments(self):\n",
    "        return True\n",
    "\n",
    "class CoffeeWithHook(CaffineBeverageWithHook):\n",
    "    def brew(self):\n",
    "        print(\"Brew Coffee\")\n",
    "\n",
    "    def add_condiments(self):\n",
    "        print(\"Adding Sugar and Milk\")\n",
    "\n",
    "    def customer_wants_condiments(self):\n",
    "        input_str = input(\"y\")\n",
    "        if input_str.lower() == \"y\":\n",
    "            return True\n",
    "        else:\n",
    "            return False\n",
    "\n",
    "\n",
    "coffee_with_hook = CoffeeWithHook()\n",
    "coffee_with_hook.prepare_recipe()\n"
   ],
   "metadata": {
    "collapsed": false,
    "ExecuteTime": {
     "end_time": "2023-09-07T16:01:24.981983Z",
     "start_time": "2023-09-07T16:01:24.019011Z"
    }
   }
  }
 ],
 "metadata": {
  "kernelspec": {
   "display_name": "Python 3",
   "language": "python",
   "name": "python3"
  },
  "language_info": {
   "codemirror_mode": {
    "name": "ipython",
    "version": 2
   },
   "file_extension": ".py",
   "mimetype": "text/x-python",
   "name": "python",
   "nbconvert_exporter": "python",
   "pygments_lexer": "ipython2",
   "version": "2.7.6"
  }
 },
 "nbformat": 4,
 "nbformat_minor": 0
}
