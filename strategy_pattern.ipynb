{
 "cells": [
  {
   "cell_type": "markdown",
   "source": [
    "# Strategy Pattern\n",
    "The Strategy Pattern defines a family of algorithms, encapsulates each one, and makes them interchangeable. Strategy lets the algorithm vary independently from clients that use it."
   ],
   "metadata": {
    "collapsed": false
   }
  },
  {
   "cell_type": "code",
   "execution_count": 2,
   "id": "b904f309-eef2-45f8-85b8-416e76f1ca9b",
   "metadata": {},
   "outputs": [],
   "source": [
    "from abc import ABC, abstractmethod"
   ]
  },
  {
   "cell_type": "code",
   "execution_count": 16,
   "id": "07c8b2ba-6a01-4fd1-aa39-9dbf526ba327",
   "metadata": {},
   "outputs": [],
   "source": [
    "class FlyBehavior(ABC):\n",
    "    \n",
    "    @abstractmethod\n",
    "    def fly(self):\n",
    "        pass\n",
    "    \n",
    "    \n",
    "class QuackBehavior(ABC):\n",
    "    \n",
    "    @abstractmethod\n",
    "    def quack(self):\n",
    "        pass\n",
    "\n",
    "\n",
    "class FlyWithWings(FlyBehavior):\n",
    "    \n",
    "    def fly(self):\n",
    "        print(\"I can fly!\")\n",
    "        \n",
    "class FlyNoWay(FlyBehavior):\n",
    "    \n",
    "    def fly(self):\n",
    "        print(\"I can't fly :(\")\n",
    "        \n",
    "class Quack(QuackBehavior):\n",
    "    \n",
    "    def quack(self):\n",
    "        print(\"Quack\")\n",
    "        \n",
    "class MuteQuack(QuackBehavior):\n",
    "    \n",
    "    def quack(self):\n",
    "        print(\"<Silence>\")\n",
    "        \n",
    "        \n",
    "class Duck(ABC):\n",
    "    \n",
    "    def __init__(self, new_fly_behavior: FlyBehavior, new_quack_behavior: QuackBehavior):\n",
    "        self.fly_behavior: FlyBehavior = new_fly_behavior\n",
    "        self.quack_behavior: QuackBehavior = new_quack_behavior\n",
    "    \n",
    "    def swim(self):\n",
    "        print(\"I can swim!\")\n",
    "    \n",
    "    @abstractmethod\n",
    "    def display(self):\n",
    "        pass\n",
    "    \n",
    "    def performQuack(self):\n",
    "        self.quack_behavior.quack()\n",
    "    \n",
    "    def performFly(self):\n",
    "        self.fly_behavior.fly()\n",
    "    \n",
    "    def setFlyBehavior(self, new_fly_behavior: FlyBehavior, /):\n",
    "        self.fly_behavior = new_fly_behavior\n",
    "    \n",
    "    def setQuackBehavior(self, new_quack_behavior: QuackBehavior, /):\n",
    "        self.quack_behavior = new_quack_behavior\n",
    "    \n",
    "    \n",
    "    \n",
    "class MallardDuck(Duck):\n",
    "    \n",
    "    def __init__(self):\n",
    "        super().__init__(FlyWithWings(), Quack())\n",
    "        \n",
    "    def display(self):\n",
    "        print(\"I am a Mallard duck\")\n",
    "        \n",
    "    \n",
    "    \n",
    "    \n",
    "    \n",
    "    "
   ]
  },
  {
   "cell_type": "code",
   "execution_count": 18,
   "id": "0c472bb0-95a9-46d0-a6e1-ebe12e70c5c3",
   "metadata": {},
   "outputs": [
    {
     "name": "stdout",
     "output_type": "stream",
     "text": [
      "I am a Mallard duck\n",
      "Quack\n",
      "I can fly!\n",
      "I can swim!\n",
      "I can't fly :(\n"
     ]
    }
   ],
   "source": [
    "duck = MallardDuck()\n",
    "duck.display()\n",
    "duck.performQuack()\n",
    "duck.performFly()\n",
    "duck.swim()\n",
    "\n",
    "duck.setFlyBehavior(FlyNoWay())\n",
    "duck.performFly()"
   ]
  },
  {
   "cell_type": "code",
   "execution_count": null,
   "id": "df27ec4f-fc99-4224-8ff8-255896c2b86b",
   "metadata": {},
   "outputs": [],
   "source": []
  }
 ],
 "metadata": {
  "kernelspec": {
   "display_name": "Python 3.11.1 Kernal",
   "language": "python",
   "name": "3-11-1-python-kernel"
  },
  "language_info": {
   "codemirror_mode": {
    "name": "ipython",
    "version": 3
   },
   "file_extension": ".py",
   "mimetype": "text/x-python",
   "name": "python",
   "nbconvert_exporter": "python",
   "pygments_lexer": "ipython3",
   "version": "3.11.1"
  }
 },
 "nbformat": 4,
 "nbformat_minor": 5
}
