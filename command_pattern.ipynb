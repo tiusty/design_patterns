{
 "cells": [
  {
   "cell_type": "markdown",
   "source": [
    "# Command Pattern\n",
    "\"The Command Pattern encapsulates a request as an object, thereby letting you parameterize other objects with different requests, queue or log requests, and support undoable operations.\""
   ],
   "metadata": {
    "collapsed": false
   }
  },
  {
   "cell_type": "code",
   "execution_count": 20,
   "metadata": {
    "collapsed": true,
    "ExecuteTime": {
     "start_time": "2023-04-28T16:27:41.505397Z",
     "end_time": "2023-04-28T16:27:41.556216Z"
    }
   },
   "outputs": [],
   "source": [
    "from abc import ABC, abstractmethod\n",
    "\n",
    "class Command(ABC):\n",
    "    @abstractmethod\n",
    "    def execute(self):\n",
    "        pass\n",
    "    @abstractmethod\n",
    "    def undo(self):\n",
    "        pass\n",
    "\n",
    "\n",
    "class Light:\n",
    "    def __init__(self, name : str):\n",
    "        self.name = name\n",
    "\n",
    "    def on(self):\n",
    "        print(f\"Turn {self.name} light on\")\n",
    "    def off(self):\n",
    "        print(f\"Turn {self.name} light off\")\n",
    "\n",
    "# Command\n",
    "class LightOnCommand(Command):\n",
    "    def __init__(self, light : Light):\n",
    "        self.light = light\n",
    "\n",
    "    def execute(self):\n",
    "        self.light.on()\n",
    "\n",
    "    def undo(self):\n",
    "        self.light.off()\n",
    "\n",
    "# Invoker\n",
    "class SimpleRemoteControl:\n",
    "\n",
    "    def __init__(self):\n",
    "        self.slot : Command = None\n",
    "\n",
    "    def setCommand(self, command : Command):\n",
    "        self.slot = command\n",
    "\n",
    "    def buttonWasPresed(self):\n",
    "        self.slot.execute()"
   ]
  },
  {
   "cell_type": "markdown",
   "source": [
    "# Testing"
   ],
   "metadata": {
    "collapsed": false
   }
  },
  {
   "cell_type": "code",
   "execution_count": 21,
   "outputs": [
    {
     "name": "stdout",
     "output_type": "stream",
     "text": [
      "Turn Living_room light on\n"
     ]
    }
   ],
   "source": [
    "simple_remote = SimpleRemoteControl()\n",
    "light = Light(\"Living_room\")\n",
    "light_on_command = LightOnCommand(light)\n",
    "\n",
    "simple_remote.setCommand(light_on_command)\n",
    "simple_remote.buttonWasPresed()\n"
   ],
   "metadata": {
    "collapsed": false,
    "ExecuteTime": {
     "start_time": "2023-04-28T16:27:41.516374Z",
     "end_time": "2023-04-28T16:27:41.556684Z"
    }
   }
  },
  {
   "cell_type": "code",
   "execution_count": 30,
   "outputs": [],
   "source": [
    "from typing import List\n",
    "\n",
    "class NoCommand(Command):\n",
    "    def execute(self):\n",
    "        pass\n",
    "\n",
    "    def undo(self):\n",
    "        pass\n",
    "\n",
    "class LightOffCommand(Command):\n",
    "    def __init__(self, light: Light):\n",
    "        self.light = light\n",
    "\n",
    "    def execute(self):\n",
    "        self.light.off()\n",
    "\n",
    "    def undo(self):\n",
    "        self.light.on()\n",
    "\n",
    "class LightOnCommand(Command):\n",
    "    def __init__(self, light: Light):\n",
    "        self.light = light\n",
    "\n",
    "    def execute(self):\n",
    "        self.light.on()\n",
    "\n",
    "    def undo(self):\n",
    "        self.light.off()\n",
    "\n",
    "\n",
    "class Stereo:\n",
    "    def __init__(self, name : str):\n",
    "        self.name = name\n",
    "    def on(self):\n",
    "        print(f\"Stereo {self.name} on\")\n",
    "    def setCD(self):\n",
    "        print(f\"Stereo {self.name} cd set\")\n",
    "    def setVolume(self, volume_level: int):\n",
    "        print(f\"Stereo {self.name} Volumne level set to {volume_level}\")\n",
    "    def off(self):\n",
    "        print(f\"Stereo {self.name} off\")\n",
    "\n",
    "class StereoOnWithCDCommand(Command):\n",
    "    def __init__(self, stereo : Stereo):\n",
    "        self.stereo = stereo\n",
    "\n",
    "    def execute(self):\n",
    "        self.stereo.on()\n",
    "        self.stereo.setCD()\n",
    "        self.stereo.setVolume(11)\n",
    "\n",
    "    def undo(self):\n",
    "        self.stereo.off()\n",
    "\n",
    "class StereoOffCommand(Command):\n",
    "    def __init__(self, stereo : Stereo):\n",
    "        self.stereo = stereo\n",
    "\n",
    "    def execute(self):\n",
    "        self.stereo.off()\n",
    "\n",
    "    def undo(self):\n",
    "        self.stereo.on()\n",
    "        self.stereo.setCD()\n",
    "        self.stereo.setVolume(11)\n",
    "\n",
    "\n",
    "class Macrocommand(Command):\n",
    "    def __init__(self, commands : List[Command]):\n",
    "        self.commands = commands\n",
    "\n",
    "    def execute(self):\n",
    "        for command in self.commands:\n",
    "            command.execute()\n",
    "\n",
    "    def undo(self):\n",
    "        for command in self.commands:\n",
    "            command.undo()\n",
    "\n",
    "\n",
    "class RemoteControl:\n",
    "\n",
    "    NUM_SLOTS = 7\n",
    "\n",
    "    def __init__(self):\n",
    "        self.off_commands : List[Command] = []\n",
    "        self.on_commands : List[Command] = []\n",
    "        self.undo_command : Command = NoCommand()\n",
    "\n",
    "        for x in range(0,self.NUM_SLOTS):\n",
    "            self.on_commands.append(NoCommand())\n",
    "            self.off_commands.append(NoCommand())\n",
    "\n",
    "\n",
    "    def set_command(self, slot : int, command_on : Command, command_off : Command):\n",
    "        self.on_commands[slot] = command_on\n",
    "        self.off_commands[slot] = command_off\n",
    "\n",
    "    def on_button_was_pushed(self, slot: int):\n",
    "        self.on_commands[slot].execute()\n",
    "        self.undo_command = self.on_commands[slot]\n",
    "\n",
    "    def off_button_was_pushed(self, slot : int):\n",
    "        self.off_commands[slot].execute()\n",
    "        self.undo_command = self.off_commands[slot]\n",
    "\n",
    "    def undo_button_was_pressed(self):\n",
    "        self.undo_command.undo()\n",
    "\n",
    "    def __str__(self):\n",
    "        output = \"\"\n",
    "\n",
    "        for x in range(0, self.NUM_SLOTS):\n",
    "            output += f\"[slot {x}] {self.on_commands.__str__()}    { self.off_commands.__str__()}\\n\"\n",
    "        return output\n",
    "\n"
   ],
   "metadata": {
    "collapsed": false,
    "ExecuteTime": {
     "start_time": "2023-04-28T16:31:39.666380Z",
     "end_time": "2023-04-28T16:31:39.668305Z"
    }
   }
  },
  {
   "cell_type": "markdown",
   "source": [
    "# Testing"
   ],
   "metadata": {
    "collapsed": false
   }
  },
  {
   "cell_type": "code",
   "execution_count": 32,
   "outputs": [
    {
     "name": "stdout",
     "output_type": "stream",
     "text": [
      "[slot 0] [<__main__.LightOnCommand object at 0x10d2c7950>, <__main__.LightOnCommand object at 0x10d2b4a50>, <__main__.StereoOnWithCDCommand object at 0x10d2c4ed0>, <__main__.Macrocommand object at 0x10d2c4290>, <__main__.NoCommand object at 0x10d20f2d0>, <__main__.NoCommand object at 0x10d20f510>, <__main__.NoCommand object at 0x10d20c190>]    [<__main__.LightOffCommand object at 0x10d2c7ed0>, <__main__.LightOffCommand object at 0x10d2c68d0>, <__main__.StereoOffCommand object at 0x10d2c4350>, <__main__.Macrocommand object at 0x10d2e5990>, <__main__.NoCommand object at 0x10d20fad0>, <__main__.NoCommand object at 0x10d20c150>, <__main__.NoCommand object at 0x10d20f0d0>]\n",
      "[slot 1] [<__main__.LightOnCommand object at 0x10d2c7950>, <__main__.LightOnCommand object at 0x10d2b4a50>, <__main__.StereoOnWithCDCommand object at 0x10d2c4ed0>, <__main__.Macrocommand object at 0x10d2c4290>, <__main__.NoCommand object at 0x10d20f2d0>, <__main__.NoCommand object at 0x10d20f510>, <__main__.NoCommand object at 0x10d20c190>]    [<__main__.LightOffCommand object at 0x10d2c7ed0>, <__main__.LightOffCommand object at 0x10d2c68d0>, <__main__.StereoOffCommand object at 0x10d2c4350>, <__main__.Macrocommand object at 0x10d2e5990>, <__main__.NoCommand object at 0x10d20fad0>, <__main__.NoCommand object at 0x10d20c150>, <__main__.NoCommand object at 0x10d20f0d0>]\n",
      "[slot 2] [<__main__.LightOnCommand object at 0x10d2c7950>, <__main__.LightOnCommand object at 0x10d2b4a50>, <__main__.StereoOnWithCDCommand object at 0x10d2c4ed0>, <__main__.Macrocommand object at 0x10d2c4290>, <__main__.NoCommand object at 0x10d20f2d0>, <__main__.NoCommand object at 0x10d20f510>, <__main__.NoCommand object at 0x10d20c190>]    [<__main__.LightOffCommand object at 0x10d2c7ed0>, <__main__.LightOffCommand object at 0x10d2c68d0>, <__main__.StereoOffCommand object at 0x10d2c4350>, <__main__.Macrocommand object at 0x10d2e5990>, <__main__.NoCommand object at 0x10d20fad0>, <__main__.NoCommand object at 0x10d20c150>, <__main__.NoCommand object at 0x10d20f0d0>]\n",
      "[slot 3] [<__main__.LightOnCommand object at 0x10d2c7950>, <__main__.LightOnCommand object at 0x10d2b4a50>, <__main__.StereoOnWithCDCommand object at 0x10d2c4ed0>, <__main__.Macrocommand object at 0x10d2c4290>, <__main__.NoCommand object at 0x10d20f2d0>, <__main__.NoCommand object at 0x10d20f510>, <__main__.NoCommand object at 0x10d20c190>]    [<__main__.LightOffCommand object at 0x10d2c7ed0>, <__main__.LightOffCommand object at 0x10d2c68d0>, <__main__.StereoOffCommand object at 0x10d2c4350>, <__main__.Macrocommand object at 0x10d2e5990>, <__main__.NoCommand object at 0x10d20fad0>, <__main__.NoCommand object at 0x10d20c150>, <__main__.NoCommand object at 0x10d20f0d0>]\n",
      "[slot 4] [<__main__.LightOnCommand object at 0x10d2c7950>, <__main__.LightOnCommand object at 0x10d2b4a50>, <__main__.StereoOnWithCDCommand object at 0x10d2c4ed0>, <__main__.Macrocommand object at 0x10d2c4290>, <__main__.NoCommand object at 0x10d20f2d0>, <__main__.NoCommand object at 0x10d20f510>, <__main__.NoCommand object at 0x10d20c190>]    [<__main__.LightOffCommand object at 0x10d2c7ed0>, <__main__.LightOffCommand object at 0x10d2c68d0>, <__main__.StereoOffCommand object at 0x10d2c4350>, <__main__.Macrocommand object at 0x10d2e5990>, <__main__.NoCommand object at 0x10d20fad0>, <__main__.NoCommand object at 0x10d20c150>, <__main__.NoCommand object at 0x10d20f0d0>]\n",
      "[slot 5] [<__main__.LightOnCommand object at 0x10d2c7950>, <__main__.LightOnCommand object at 0x10d2b4a50>, <__main__.StereoOnWithCDCommand object at 0x10d2c4ed0>, <__main__.Macrocommand object at 0x10d2c4290>, <__main__.NoCommand object at 0x10d20f2d0>, <__main__.NoCommand object at 0x10d20f510>, <__main__.NoCommand object at 0x10d20c190>]    [<__main__.LightOffCommand object at 0x10d2c7ed0>, <__main__.LightOffCommand object at 0x10d2c68d0>, <__main__.StereoOffCommand object at 0x10d2c4350>, <__main__.Macrocommand object at 0x10d2e5990>, <__main__.NoCommand object at 0x10d20fad0>, <__main__.NoCommand object at 0x10d20c150>, <__main__.NoCommand object at 0x10d20f0d0>]\n",
      "[slot 6] [<__main__.LightOnCommand object at 0x10d2c7950>, <__main__.LightOnCommand object at 0x10d2b4a50>, <__main__.StereoOnWithCDCommand object at 0x10d2c4ed0>, <__main__.Macrocommand object at 0x10d2c4290>, <__main__.NoCommand object at 0x10d20f2d0>, <__main__.NoCommand object at 0x10d20f510>, <__main__.NoCommand object at 0x10d20c190>]    [<__main__.LightOffCommand object at 0x10d2c7ed0>, <__main__.LightOffCommand object at 0x10d2c68d0>, <__main__.StereoOffCommand object at 0x10d2c4350>, <__main__.Macrocommand object at 0x10d2e5990>, <__main__.NoCommand object at 0x10d20fad0>, <__main__.NoCommand object at 0x10d20c150>, <__main__.NoCommand object at 0x10d20f0d0>]\n",
      "\n",
      "Turn Living Room light on\n",
      "Turn Living Room light off\n",
      "Turn Kitchen light on\n",
      "Turn Kitchen light off\n",
      "Stereo Living Room on\n",
      "Stereo Living Room cd set\n",
      "Stereo Living Room Volumne level set to 11\n",
      "Stereo Living Room off\n",
      "Stereo Living Room on\n",
      "Stereo Living Room cd set\n",
      "Stereo Living Room Volumne level set to 11\n",
      "Party button pressed\n",
      "Turn Living Room light on\n",
      "Stereo Living Room on\n",
      "Stereo Living Room cd set\n",
      "Stereo Living Room Volumne level set to 11\n",
      "Turn Kitchen light off\n",
      "Party turned off\n",
      "Turn Living Room light off\n",
      "Stereo Living Room off\n",
      "Turn Kitchen light on\n"
     ]
    }
   ],
   "source": [
    "remote_control = RemoteControl()\n",
    "\n",
    "living_room_light = Light(\"Living Room\")\n",
    "kitchen_light = Light(\"Kitchen\")\n",
    "living_room_light_on = LightOnCommand(living_room_light)\n",
    "living_room_light_off = LightOffCommand(living_room_light)\n",
    "kitchen_light_on = LightOnCommand(kitchen_light)\n",
    "kitchen_light_off = LightOffCommand(kitchen_light)\n",
    "\n",
    "stereo = Stereo(\"Living Room\")\n",
    "stereo_on_with_cd_command = StereoOnWithCDCommand(stereo)\n",
    "stereo_off_command = StereoOffCommand(stereo)\n",
    "\n",
    "party_on = [living_room_light_on, stereo_on_with_cd_command, kitchen_light_off]\n",
    "party_off = [living_room_light_off, stereo_off_command, kitchen_light_on]\n",
    "party_on_command = Macrocommand(party_on)\n",
    "party_off_command = Macrocommand(party_off)\n",
    "\n",
    "remote_control.set_command(0, living_room_light_on, living_room_light_off)\n",
    "remote_control.set_command(1, kitchen_light_on, kitchen_light_off)\n",
    "remote_control.set_command(2, stereo_on_with_cd_command, stereo_off_command)\n",
    "remote_control.set_command(3, party_on_command, party_off_command)\n",
    "\n",
    "print(remote_control)\n",
    "\n",
    "remote_control.on_button_was_pushed(0)\n",
    "remote_control.off_button_was_pushed(0)\n",
    "remote_control.on_button_was_pushed(1)\n",
    "remote_control.off_button_was_pushed(1)\n",
    "remote_control.on_button_was_pushed(2)\n",
    "remote_control.off_button_was_pushed(2)\n",
    "remote_control.undo_button_was_pressed()\n",
    "print(\"Party button pressed\")\n",
    "remote_control.on_button_was_pushed(3)\n",
    "print(\"Party turned off\")\n",
    "remote_control.off_button_was_pushed(3)"
   ],
   "metadata": {
    "collapsed": false,
    "ExecuteTime": {
     "start_time": "2023-04-28T16:34:07.580171Z",
     "end_time": "2023-04-28T16:34:07.583872Z"
    }
   }
  }
 ],
 "metadata": {
  "kernelspec": {
   "display_name": "Python 3",
   "language": "python",
   "name": "python3"
  },
  "language_info": {
   "codemirror_mode": {
    "name": "ipython",
    "version": 2
   },
   "file_extension": ".py",
   "mimetype": "text/x-python",
   "name": "python",
   "nbconvert_exporter": "python",
   "pygments_lexer": "ipython2",
   "version": "2.7.6"
  }
 },
 "nbformat": 4,
 "nbformat_minor": 0
}
