{
 "cells": [
  {
   "cell_type": "markdown",
   "source": [
    "# Facade Pattern\n",
    "\"The Facade Pattern provides a unified interface to a set of interfaces in a subsytem. Facade defines a higher- level interface that makes the subsystem easier to use.\""
   ],
   "metadata": {
    "collapsed": false
   }
  },
  {
   "cell_type": "code",
   "execution_count": 4,
   "metadata": {
    "collapsed": true,
    "ExecuteTime": {
     "end_time": "2023-07-03T20:04:14.415919Z",
     "start_time": "2023-07-03T20:04:14.413638Z"
    }
   },
   "outputs": [],
   "source": [
    "from abc import ABC\n",
    "\n",
    "class Tuner:\n",
    "\n",
    "    def tune(self):\n",
    "        print(\"Tuning\")\n",
    "\n",
    "class DvdPlayer:\n",
    "    def play(self):\n",
    "        print(\"Playing Dvd\")\n",
    "\n",
    "    def insert(self):\n",
    "        print(\"Inserting DvD\")\n",
    "\n",
    "    def eject(self):\n",
    "        print(\"Ejecting a Dvd\")\n",
    "\n",
    "class Lights:\n",
    "\n",
    "    def off(self):\n",
    "        print(\"Turning off the lights\")\n",
    "\n",
    "    def on(self):\n",
    "        print(\"Turning on the lights\")\n",
    "\n",
    "class Screen:\n",
    "\n",
    "    def off(self):\n",
    "        print(\"Turning off the TV\")\n",
    "\n",
    "    def on(self):\n",
    "        print(\"Turning on the TV\")\n",
    "\n",
    "\n",
    "class HomeTheater:\n",
    "    \"\"\"\n",
    "    Facade to simplify groupings of commands.\n",
    "    \"\"\"\n",
    "\n",
    "    def __init__(self, tuner: Tuner, dvd_player: DvdPlayer, lights : Lights, screen : Screen):\n",
    "        self._tuner = tuner\n",
    "        self._dvd_player = dvd_player\n",
    "        self._lights = lights\n",
    "        self._screen = screen\n",
    "\n",
    "    def watch_movie(self):\n",
    "        self._dvd_player.insert()\n",
    "        self._tuner.tune()\n",
    "        self._screen.on()\n",
    "        self._lights.off()\n",
    "        self._dvd_player.play()\n",
    "\n",
    "    def end_movie(self):\n",
    "        self._lights.on()\n",
    "        self._dvd_player.eject()\n",
    "        self._screen.off()\n",
    "\n"
   ]
  },
  {
   "cell_type": "code",
   "execution_count": 5,
   "outputs": [
    {
     "name": "stdout",
     "output_type": "stream",
     "text": [
      "Starting a movie\n",
      "Inserting DvD\n",
      "Tuning\n",
      "Turning on the TV\n",
      "Turning off the lights\n",
      "Playing Dvd\n",
      "\n",
      "Movie Ending\n",
      "Turning on the lights\n",
      "Ejecting a Dvd\n",
      "Turning off the TV\n"
     ]
    }
   ],
   "source": [
    "tuner = Tuner()\n",
    "dvd_player = DvdPlayer()\n",
    "lights = Lights()\n",
    "screen = Screen()\n",
    "home_theater = HomeTheater(tuner, dvd_player, lights, screen)\n",
    "\n",
    "print(\"Starting a movie\")\n",
    "home_theater.watch_movie()\n",
    "\n",
    "print(\"\")\n",
    "print(\"Movie Ending\")\n",
    "home_theater.end_movie()"
   ],
   "metadata": {
    "collapsed": false,
    "ExecuteTime": {
     "end_time": "2023-07-03T20:04:15.343132Z",
     "start_time": "2023-07-03T20:04:15.338161Z"
    }
   }
  }
 ],
 "metadata": {
  "kernelspec": {
   "display_name": "Python 3",
   "language": "python",
   "name": "python3"
  },
  "language_info": {
   "codemirror_mode": {
    "name": "ipython",
    "version": 2
   },
   "file_extension": ".py",
   "mimetype": "text/x-python",
   "name": "python",
   "nbconvert_exporter": "python",
   "pygments_lexer": "ipython2",
   "version": "2.7.6"
  }
 },
 "nbformat": 4,
 "nbformat_minor": 0
}
